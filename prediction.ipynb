{
 "cells": [
  {
   "cell_type": "markdown",
   "id": "ef42fc41",
   "metadata": {},
   "source": [
    "## Movie review Prediction System"
   ]
  },
  {
   "cell_type": "code",
   "execution_count": 1,
   "id": "48ef4c21",
   "metadata": {},
   "outputs": [],
   "source": [
    "## Step 1 Import all libraries and Load the model\n",
    "import numpy as np\n",
    "import tensorflow as tf\n",
    "from tensorflow.keras.datasets import imdb\n",
    "from tensorflow.keras.preprocessing import sequence\n",
    "from tensorflow.keras.models import load_model"
   ]
  },
  {
   "cell_type": "code",
   "execution_count": 2,
   "id": "0cee93f3",
   "metadata": {},
   "outputs": [],
   "source": [
    "## load the imdb dataset word index\n",
    "\n",
    "word_index = imdb.get_word_index()\n",
    "reverse_word_index = {value:key for key,value in word_index.items()}"
   ]
  },
  {
   "cell_type": "code",
   "execution_count": 3,
   "id": "bf8d880d",
   "metadata": {},
   "outputs": [
    {
     "name": "stderr",
     "output_type": "stream",
     "text": [
      "WARNING:absl:Compiled the loaded model, but the compiled metrics have yet to be built. `model.compile_metrics` will be empty until you train or evaluate the model.\n"
     ]
    },
    {
     "data": {
      "text/html": [
       "<pre style=\"white-space:pre;overflow-x:auto;line-height:normal;font-family:Menlo,'DejaVu Sans Mono',consolas,'Courier New',monospace\"><span style=\"font-weight: bold\">Model: \"sequential\"</span>\n",
       "</pre>\n"
      ],
      "text/plain": [
       "\u001b[1mModel: \"sequential\"\u001b[0m\n"
      ]
     },
     "metadata": {},
     "output_type": "display_data"
    },
    {
     "data": {
      "text/html": [
       "<pre style=\"white-space:pre;overflow-x:auto;line-height:normal;font-family:Menlo,'DejaVu Sans Mono',consolas,'Courier New',monospace\">┏━━━━━━━━━━━━━━━━━━━━━━━━━━━━━━━━━┳━━━━━━━━━━━━━━━━━━━━━━━━┳━━━━━━━━━━━━━━━┓\n",
       "┃<span style=\"font-weight: bold\"> Layer (type)                    </span>┃<span style=\"font-weight: bold\"> Output Shape           </span>┃<span style=\"font-weight: bold\">       Param # </span>┃\n",
       "┡━━━━━━━━━━━━━━━━━━━━━━━━━━━━━━━━━╇━━━━━━━━━━━━━━━━━━━━━━━━╇━━━━━━━━━━━━━━━┩\n",
       "│ embedding (<span style=\"color: #0087ff; text-decoration-color: #0087ff\">Embedding</span>)           │ (<span style=\"color: #00d7ff; text-decoration-color: #00d7ff\">None</span>, <span style=\"color: #00af00; text-decoration-color: #00af00\">500</span>, <span style=\"color: #00af00; text-decoration-color: #00af00\">128</span>)       │     <span style=\"color: #00af00; text-decoration-color: #00af00\">1,280,000</span> │\n",
       "├─────────────────────────────────┼────────────────────────┼───────────────┤\n",
       "│ simple_rnn (<span style=\"color: #0087ff; text-decoration-color: #0087ff\">SimpleRNN</span>)          │ (<span style=\"color: #00d7ff; text-decoration-color: #00d7ff\">None</span>, <span style=\"color: #00af00; text-decoration-color: #00af00\">128</span>)            │        <span style=\"color: #00af00; text-decoration-color: #00af00\">32,896</span> │\n",
       "├─────────────────────────────────┼────────────────────────┼───────────────┤\n",
       "│ dense (<span style=\"color: #0087ff; text-decoration-color: #0087ff\">Dense</span>)                   │ (<span style=\"color: #00d7ff; text-decoration-color: #00d7ff\">None</span>, <span style=\"color: #00af00; text-decoration-color: #00af00\">1</span>)              │           <span style=\"color: #00af00; text-decoration-color: #00af00\">129</span> │\n",
       "└─────────────────────────────────┴────────────────────────┴───────────────┘\n",
       "</pre>\n"
      ],
      "text/plain": [
       "┏━━━━━━━━━━━━━━━━━━━━━━━━━━━━━━━━━┳━━━━━━━━━━━━━━━━━━━━━━━━┳━━━━━━━━━━━━━━━┓\n",
       "┃\u001b[1m \u001b[0m\u001b[1mLayer (type)                   \u001b[0m\u001b[1m \u001b[0m┃\u001b[1m \u001b[0m\u001b[1mOutput Shape          \u001b[0m\u001b[1m \u001b[0m┃\u001b[1m \u001b[0m\u001b[1m      Param #\u001b[0m\u001b[1m \u001b[0m┃\n",
       "┡━━━━━━━━━━━━━━━━━━━━━━━━━━━━━━━━━╇━━━━━━━━━━━━━━━━━━━━━━━━╇━━━━━━━━━━━━━━━┩\n",
       "│ embedding (\u001b[38;5;33mEmbedding\u001b[0m)           │ (\u001b[38;5;45mNone\u001b[0m, \u001b[38;5;34m500\u001b[0m, \u001b[38;5;34m128\u001b[0m)       │     \u001b[38;5;34m1,280,000\u001b[0m │\n",
       "├─────────────────────────────────┼────────────────────────┼───────────────┤\n",
       "│ simple_rnn (\u001b[38;5;33mSimpleRNN\u001b[0m)          │ (\u001b[38;5;45mNone\u001b[0m, \u001b[38;5;34m128\u001b[0m)            │        \u001b[38;5;34m32,896\u001b[0m │\n",
       "├─────────────────────────────────┼────────────────────────┼───────────────┤\n",
       "│ dense (\u001b[38;5;33mDense\u001b[0m)                   │ (\u001b[38;5;45mNone\u001b[0m, \u001b[38;5;34m1\u001b[0m)              │           \u001b[38;5;34m129\u001b[0m │\n",
       "└─────────────────────────────────┴────────────────────────┴───────────────┘\n"
      ]
     },
     "metadata": {},
     "output_type": "display_data"
    },
    {
     "data": {
      "text/html": [
       "<pre style=\"white-space:pre;overflow-x:auto;line-height:normal;font-family:Menlo,'DejaVu Sans Mono',consolas,'Courier New',monospace\"><span style=\"font-weight: bold\"> Total params: </span><span style=\"color: #00af00; text-decoration-color: #00af00\">1,313,027</span> (5.01 MB)\n",
       "</pre>\n"
      ],
      "text/plain": [
       "\u001b[1m Total params: \u001b[0m\u001b[38;5;34m1,313,027\u001b[0m (5.01 MB)\n"
      ]
     },
     "metadata": {},
     "output_type": "display_data"
    },
    {
     "data": {
      "text/html": [
       "<pre style=\"white-space:pre;overflow-x:auto;line-height:normal;font-family:Menlo,'DejaVu Sans Mono',consolas,'Courier New',monospace\"><span style=\"font-weight: bold\"> Trainable params: </span><span style=\"color: #00af00; text-decoration-color: #00af00\">1,313,025</span> (5.01 MB)\n",
       "</pre>\n"
      ],
      "text/plain": [
       "\u001b[1m Trainable params: \u001b[0m\u001b[38;5;34m1,313,025\u001b[0m (5.01 MB)\n"
      ]
     },
     "metadata": {},
     "output_type": "display_data"
    },
    {
     "data": {
      "text/html": [
       "<pre style=\"white-space:pre;overflow-x:auto;line-height:normal;font-family:Menlo,'DejaVu Sans Mono',consolas,'Courier New',monospace\"><span style=\"font-weight: bold\"> Non-trainable params: </span><span style=\"color: #00af00; text-decoration-color: #00af00\">0</span> (0.00 B)\n",
       "</pre>\n"
      ],
      "text/plain": [
       "\u001b[1m Non-trainable params: \u001b[0m\u001b[38;5;34m0\u001b[0m (0.00 B)\n"
      ]
     },
     "metadata": {},
     "output_type": "display_data"
    },
    {
     "data": {
      "text/html": [
       "<pre style=\"white-space:pre;overflow-x:auto;line-height:normal;font-family:Menlo,'DejaVu Sans Mono',consolas,'Courier New',monospace\"><span style=\"font-weight: bold\"> Optimizer params: </span><span style=\"color: #00af00; text-decoration-color: #00af00\">2</span> (12.00 B)\n",
       "</pre>\n"
      ],
      "text/plain": [
       "\u001b[1m Optimizer params: \u001b[0m\u001b[38;5;34m2\u001b[0m (12.00 B)\n"
      ]
     },
     "metadata": {},
     "output_type": "display_data"
    }
   ],
   "source": [
    "# Load the pre-Trained model with ReLU activation\n",
    "model = load_model('best_model.h5')\n",
    "model.summary()"
   ]
  },
  {
   "cell_type": "code",
   "execution_count": 4,
   "id": "05aa61c2",
   "metadata": {},
   "outputs": [],
   "source": [
    "## Step 2 Helper Function \n",
    "## Function to decode reviews\n",
    "\n",
    "OFFSET = 3\n",
    "def decode_review(encoded_review):\n",
    "    return ' '.join([reverse_word_index.get(i-3,'?') for i in encoded_review])\n",
    "\n",
    "## Function to preprocess user input \n",
    "\n",
    "def preprocess_text(text):\n",
    "    words = text.lower().split()\n",
    "    encoded_review = [word_index.get(word,2) + OFFSET for word in words]\n",
    "    padded_review = sequence.pad_sequences([encoded_review],maxlen=500)\n",
    "    return padded_review"
   ]
  },
  {
   "cell_type": "code",
   "execution_count": 5,
   "id": "565b3c91",
   "metadata": {},
   "outputs": [],
   "source": [
    "### prediction function \n",
    "\n",
    "def predict_sentiment(review):\n",
    "    preprocessed_input = preprocess_text(review)\n",
    "    prediction = model.predict(preprocessed_input)\n",
    "\n",
    "    sentiment = 'Positive' if prediction[0][0]> 0.5 else 'Negative'\n",
    "    return sentiment, prediction[0][0]"
   ]
  },
  {
   "cell_type": "code",
   "execution_count": 6,
   "id": "4bb099d2",
   "metadata": {},
   "outputs": [
    {
     "name": "stdout",
     "output_type": "stream",
     "text": [
      "\u001b[1m1/1\u001b[0m \u001b[32m━━━━━━━━━━━━━━━━━━━━\u001b[0m\u001b[37m\u001b[0m \u001b[1m0s\u001b[0m 425ms/step\n",
      "Review: great acting\n",
      "Sentiment: Negative, Score: 0.2005\n",
      "\n",
      "\u001b[1m1/1\u001b[0m \u001b[32m━━━━━━━━━━━━━━━━━━━━\u001b[0m\u001b[37m\u001b[0m \u001b[1m0s\u001b[0m 81ms/step\n",
      "Review: boring plot\n",
      "Sentiment: Negative, Score: 0.0529\n",
      "\n",
      "\u001b[1m1/1\u001b[0m \u001b[32m━━━━━━━━━━━━━━━━━━━━\u001b[0m\u001b[37m\u001b[0m \u001b[1m0s\u001b[0m 82ms/step\n",
      "Review: i loved it\n",
      "Sentiment: Positive, Score: 0.7723\n",
      "\n",
      "\u001b[1m1/1\u001b[0m \u001b[32m━━━━━━━━━━━━━━━━━━━━\u001b[0m\u001b[37m\u001b[0m \u001b[1m0s\u001b[0m 75ms/step\n",
      "Review: waste of time\n",
      "Sentiment: Negative, Score: 0.0885\n",
      "\n",
      "\u001b[1m1/1\u001b[0m \u001b[32m━━━━━━━━━━━━━━━━━━━━\u001b[0m\u001b[37m\u001b[0m \u001b[1m0s\u001b[0m 95ms/step\n",
      "Review: The movie was really bad\n",
      "Sentiment: Negative, Score: 0.0349\n",
      "\n"
     ]
    }
   ],
   "source": [
    "## Step 4: User Input and Prediction \n",
    "## Example review for prediction \n",
    "reviews = [\"great acting\", \"boring plot\", \"i loved it\", \"waste of time\",\"The movie was really bad\"]\n",
    "for review in reviews:\n",
    "    sentiment, score = predict_sentiment(review)\n",
    "    print(f\"Review: {review}\\nSentiment: {sentiment}, Score: {score:.4f}\\n\")\n"
   ]
  },
  {
   "cell_type": "code",
   "execution_count": 14,
   "id": "d59afb15",
   "metadata": {},
   "outputs": [
    {
     "ename": "InvalidArgumentError",
     "evalue": "Graph execution error:\n\nDetected at node sequential_1/embedding_1/GatherV2 defined at (most recent call last):\n  File \"<frozen runpy>\", line 198, in _run_module_as_main\n\n  File \"<frozen runpy>\", line 88, in _run_code\n\n  File \"c:\\Users\\prash\\OneDrive\\Desktop\\Certificate_Practice\\venv\\Lib\\site-packages\\ipykernel_launcher.py\", line 18, in <module>\n\n  File \"c:\\Users\\prash\\OneDrive\\Desktop\\Certificate_Practice\\venv\\Lib\\site-packages\\traitlets\\config\\application.py\", line 1075, in launch_instance\n\n  File \"c:\\Users\\prash\\OneDrive\\Desktop\\Certificate_Practice\\venv\\Lib\\site-packages\\ipykernel\\kernelapp.py\", line 739, in start\n\n  File \"c:\\Users\\prash\\OneDrive\\Desktop\\Certificate_Practice\\venv\\Lib\\site-packages\\tornado\\platform\\asyncio.py\", line 205, in start\n\n  File \"c:\\Users\\prash\\OneDrive\\Desktop\\Certificate_Practice\\venv\\Lib\\asyncio\\base_events.py\", line 618, in run_forever\n\n  File \"c:\\Users\\prash\\OneDrive\\Desktop\\Certificate_Practice\\venv\\Lib\\asyncio\\base_events.py\", line 1951, in _run_once\n\n  File \"c:\\Users\\prash\\OneDrive\\Desktop\\Certificate_Practice\\venv\\Lib\\asyncio\\events.py\", line 84, in _run\n\n  File \"c:\\Users\\prash\\OneDrive\\Desktop\\Certificate_Practice\\venv\\Lib\\site-packages\\ipykernel\\kernelbase.py\", line 545, in dispatch_queue\n\n  File \"c:\\Users\\prash\\OneDrive\\Desktop\\Certificate_Practice\\venv\\Lib\\site-packages\\ipykernel\\kernelbase.py\", line 534, in process_one\n\n  File \"c:\\Users\\prash\\OneDrive\\Desktop\\Certificate_Practice\\venv\\Lib\\site-packages\\ipykernel\\kernelbase.py\", line 437, in dispatch_shell\n\n  File \"c:\\Users\\prash\\OneDrive\\Desktop\\Certificate_Practice\\venv\\Lib\\site-packages\\ipykernel\\ipkernel.py\", line 362, in execute_request\n\n  File \"c:\\Users\\prash\\OneDrive\\Desktop\\Certificate_Practice\\venv\\Lib\\site-packages\\ipykernel\\kernelbase.py\", line 778, in execute_request\n\n  File \"c:\\Users\\prash\\OneDrive\\Desktop\\Certificate_Practice\\venv\\Lib\\site-packages\\ipykernel\\ipkernel.py\", line 449, in do_execute\n\n  File \"c:\\Users\\prash\\OneDrive\\Desktop\\Certificate_Practice\\venv\\Lib\\site-packages\\ipykernel\\zmqshell.py\", line 549, in run_cell\n\n  File \"c:\\Users\\prash\\OneDrive\\Desktop\\Certificate_Practice\\venv\\Lib\\site-packages\\IPython\\core\\interactiveshell.py\", line 3077, in run_cell\n\n  File \"c:\\Users\\prash\\OneDrive\\Desktop\\Certificate_Practice\\venv\\Lib\\site-packages\\IPython\\core\\interactiveshell.py\", line 3132, in _run_cell\n\n  File \"c:\\Users\\prash\\OneDrive\\Desktop\\Certificate_Practice\\venv\\Lib\\site-packages\\IPython\\core\\async_helpers.py\", line 128, in _pseudo_sync_runner\n\n  File \"c:\\Users\\prash\\OneDrive\\Desktop\\Certificate_Practice\\venv\\Lib\\site-packages\\IPython\\core\\interactiveshell.py\", line 3336, in run_cell_async\n\n  File \"c:\\Users\\prash\\OneDrive\\Desktop\\Certificate_Practice\\venv\\Lib\\site-packages\\IPython\\core\\interactiveshell.py\", line 3519, in run_ast_nodes\n\n  File \"c:\\Users\\prash\\OneDrive\\Desktop\\Certificate_Practice\\venv\\Lib\\site-packages\\IPython\\core\\interactiveshell.py\", line 3579, in run_code\n\n  File \"C:\\Users\\prash\\AppData\\Local\\Temp\\ipykernel_10160\\3357125385.py\", line 5, in <module>\n\n  File \"C:\\Users\\prash\\AppData\\Local\\Temp\\ipykernel_10160\\263984499.py\", line 5, in predict_sentiment\n\n  File \"c:\\Users\\prash\\OneDrive\\Desktop\\Certificate_Practice\\venv\\Lib\\site-packages\\keras\\src\\utils\\traceback_utils.py\", line 117, in error_handler\n\n  File \"c:\\Users\\prash\\OneDrive\\Desktop\\Certificate_Practice\\venv\\Lib\\site-packages\\keras\\src\\backend\\tensorflow\\trainer.py\", line 566, in predict\n\n  File \"c:\\Users\\prash\\OneDrive\\Desktop\\Certificate_Practice\\venv\\Lib\\site-packages\\keras\\src\\backend\\tensorflow\\trainer.py\", line 260, in one_step_on_data_distributed\n\n  File \"c:\\Users\\prash\\OneDrive\\Desktop\\Certificate_Practice\\venv\\Lib\\site-packages\\keras\\src\\backend\\tensorflow\\trainer.py\", line 250, in one_step_on_data\n\n  File \"c:\\Users\\prash\\OneDrive\\Desktop\\Certificate_Practice\\venv\\Lib\\site-packages\\keras\\src\\backend\\tensorflow\\trainer.py\", line 105, in predict_step\n\n  File \"c:\\Users\\prash\\OneDrive\\Desktop\\Certificate_Practice\\venv\\Lib\\site-packages\\keras\\src\\utils\\traceback_utils.py\", line 117, in error_handler\n\n  File \"c:\\Users\\prash\\OneDrive\\Desktop\\Certificate_Practice\\venv\\Lib\\site-packages\\keras\\src\\layers\\layer.py\", line 941, in __call__\n\n  File \"c:\\Users\\prash\\OneDrive\\Desktop\\Certificate_Practice\\venv\\Lib\\site-packages\\keras\\src\\utils\\traceback_utils.py\", line 117, in error_handler\n\n  File \"c:\\Users\\prash\\OneDrive\\Desktop\\Certificate_Practice\\venv\\Lib\\site-packages\\keras\\src\\ops\\operation.py\", line 59, in __call__\n\n  File \"c:\\Users\\prash\\OneDrive\\Desktop\\Certificate_Practice\\venv\\Lib\\site-packages\\keras\\src\\utils\\traceback_utils.py\", line 156, in error_handler\n\n  File \"c:\\Users\\prash\\OneDrive\\Desktop\\Certificate_Practice\\venv\\Lib\\site-packages\\keras\\src\\models\\sequential.py\", line 220, in call\n\n  File \"c:\\Users\\prash\\OneDrive\\Desktop\\Certificate_Practice\\venv\\Lib\\site-packages\\keras\\src\\models\\functional.py\", line 183, in call\n\n  File \"c:\\Users\\prash\\OneDrive\\Desktop\\Certificate_Practice\\venv\\Lib\\site-packages\\keras\\src\\ops\\function.py\", line 206, in _run_through_graph\n\n  File \"c:\\Users\\prash\\OneDrive\\Desktop\\Certificate_Practice\\venv\\Lib\\site-packages\\keras\\src\\models\\functional.py\", line 644, in call\n\n  File \"c:\\Users\\prash\\OneDrive\\Desktop\\Certificate_Practice\\venv\\Lib\\site-packages\\keras\\src\\utils\\traceback_utils.py\", line 117, in error_handler\n\n  File \"c:\\Users\\prash\\OneDrive\\Desktop\\Certificate_Practice\\venv\\Lib\\site-packages\\keras\\src\\layers\\layer.py\", line 941, in __call__\n\n  File \"c:\\Users\\prash\\OneDrive\\Desktop\\Certificate_Practice\\venv\\Lib\\site-packages\\keras\\src\\utils\\traceback_utils.py\", line 117, in error_handler\n\n  File \"c:\\Users\\prash\\OneDrive\\Desktop\\Certificate_Practice\\venv\\Lib\\site-packages\\keras\\src\\ops\\operation.py\", line 59, in __call__\n\n  File \"c:\\Users\\prash\\OneDrive\\Desktop\\Certificate_Practice\\venv\\Lib\\site-packages\\keras\\src\\utils\\traceback_utils.py\", line 156, in error_handler\n\n  File \"c:\\Users\\prash\\OneDrive\\Desktop\\Certificate_Practice\\venv\\Lib\\site-packages\\keras\\src\\layers\\core\\embedding.py\", line 150, in call\n\n  File \"c:\\Users\\prash\\OneDrive\\Desktop\\Certificate_Practice\\venv\\Lib\\site-packages\\keras\\src\\ops\\numpy.py\", line 5795, in take\n\n  File \"c:\\Users\\prash\\OneDrive\\Desktop\\Certificate_Practice\\venv\\Lib\\site-packages\\keras\\src\\backend\\tensorflow\\numpy.py\", line 2340, in take\n\nindices[0,498] = 45951 is not in [0, 10000)\n\t [[{{node sequential_1/embedding_1/GatherV2}}]] [Op:__inference_one_step_on_data_distributed_300]",
     "output_type": "error",
     "traceback": [
      "\u001b[1;31m---------------------------------------------------------------------------\u001b[0m",
      "\u001b[1;31mInvalidArgumentError\u001b[0m                      Traceback (most recent call last)",
      "Cell \u001b[1;32mIn[14], line 2\u001b[0m\n\u001b[0;32m      1\u001b[0m review \u001b[38;5;241m=\u001b[39m \u001b[38;5;124m\"\u001b[39m\u001b[38;5;124mAwesome mindblowing movie\u001b[39m\u001b[38;5;124m\"\u001b[39m\n\u001b[1;32m----> 2\u001b[0m sentiment, score \u001b[38;5;241m=\u001b[39m \u001b[43mpredict_sentiment\u001b[49m\u001b[43m(\u001b[49m\u001b[43mreview\u001b[49m\u001b[43m)\u001b[49m\n\u001b[0;32m      3\u001b[0m \u001b[38;5;28mprint\u001b[39m(\u001b[38;5;124mf\u001b[39m\u001b[38;5;124m\"\u001b[39m\u001b[38;5;124mReview: \u001b[39m\u001b[38;5;132;01m{\u001b[39;00mreview\u001b[38;5;132;01m}\u001b[39;00m\u001b[38;5;130;01m\\n\u001b[39;00m\u001b[38;5;124mSentiment: \u001b[39m\u001b[38;5;132;01m{\u001b[39;00msentiment\u001b[38;5;132;01m}\u001b[39;00m\u001b[38;5;124m, Score: \u001b[39m\u001b[38;5;132;01m{\u001b[39;00mscore\u001b[38;5;132;01m:\u001b[39;00m\u001b[38;5;124m.4f\u001b[39m\u001b[38;5;132;01m}\u001b[39;00m\u001b[38;5;130;01m\\n\u001b[39;00m\u001b[38;5;124m\"\u001b[39m)\n",
      "Cell \u001b[1;32mIn[5], line 5\u001b[0m, in \u001b[0;36mpredict_sentiment\u001b[1;34m(review)\u001b[0m\n\u001b[0;32m      3\u001b[0m \u001b[38;5;28;01mdef\u001b[39;00m\u001b[38;5;250m \u001b[39m\u001b[38;5;21mpredict_sentiment\u001b[39m(review):\n\u001b[0;32m      4\u001b[0m     preprocessed_input \u001b[38;5;241m=\u001b[39m preprocess_text(review)\n\u001b[1;32m----> 5\u001b[0m     prediction \u001b[38;5;241m=\u001b[39m \u001b[43mmodel\u001b[49m\u001b[38;5;241;43m.\u001b[39;49m\u001b[43mpredict\u001b[49m\u001b[43m(\u001b[49m\u001b[43mpreprocessed_input\u001b[49m\u001b[43m)\u001b[49m\n\u001b[0;32m      7\u001b[0m     sentiment \u001b[38;5;241m=\u001b[39m \u001b[38;5;124m'\u001b[39m\u001b[38;5;124mPositive\u001b[39m\u001b[38;5;124m'\u001b[39m \u001b[38;5;28;01mif\u001b[39;00m prediction[\u001b[38;5;241m0\u001b[39m][\u001b[38;5;241m0\u001b[39m]\u001b[38;5;241m>\u001b[39m \u001b[38;5;241m0.5\u001b[39m \u001b[38;5;28;01melse\u001b[39;00m \u001b[38;5;124m'\u001b[39m\u001b[38;5;124mNegative\u001b[39m\u001b[38;5;124m'\u001b[39m\n\u001b[0;32m      8\u001b[0m     \u001b[38;5;28;01mreturn\u001b[39;00m sentiment, prediction[\u001b[38;5;241m0\u001b[39m][\u001b[38;5;241m0\u001b[39m]\n",
      "File \u001b[1;32mc:\\Users\\prash\\OneDrive\\Desktop\\Certificate_Practice\\venv\\Lib\\site-packages\\keras\\src\\utils\\traceback_utils.py:122\u001b[0m, in \u001b[0;36mfilter_traceback.<locals>.error_handler\u001b[1;34m(*args, **kwargs)\u001b[0m\n\u001b[0;32m    119\u001b[0m     filtered_tb \u001b[38;5;241m=\u001b[39m _process_traceback_frames(e\u001b[38;5;241m.\u001b[39m__traceback__)\n\u001b[0;32m    120\u001b[0m     \u001b[38;5;66;03m# To get the full stack trace, call:\u001b[39;00m\n\u001b[0;32m    121\u001b[0m     \u001b[38;5;66;03m# `keras.config.disable_traceback_filtering()`\u001b[39;00m\n\u001b[1;32m--> 122\u001b[0m     \u001b[38;5;28;01mraise\u001b[39;00m e\u001b[38;5;241m.\u001b[39mwith_traceback(filtered_tb) \u001b[38;5;28;01mfrom\u001b[39;00m\u001b[38;5;250m \u001b[39m\u001b[38;5;28;01mNone\u001b[39;00m\n\u001b[0;32m    123\u001b[0m \u001b[38;5;28;01mfinally\u001b[39;00m:\n\u001b[0;32m    124\u001b[0m     \u001b[38;5;28;01mdel\u001b[39;00m filtered_tb\n",
      "File \u001b[1;32mc:\\Users\\prash\\OneDrive\\Desktop\\Certificate_Practice\\venv\\Lib\\site-packages\\tensorflow\\python\\eager\\execute.py:53\u001b[0m, in \u001b[0;36mquick_execute\u001b[1;34m(op_name, num_outputs, inputs, attrs, ctx, name)\u001b[0m\n\u001b[0;32m     51\u001b[0m \u001b[38;5;28;01mtry\u001b[39;00m:\n\u001b[0;32m     52\u001b[0m   ctx\u001b[38;5;241m.\u001b[39mensure_initialized()\n\u001b[1;32m---> 53\u001b[0m   tensors \u001b[38;5;241m=\u001b[39m pywrap_tfe\u001b[38;5;241m.\u001b[39mTFE_Py_Execute(ctx\u001b[38;5;241m.\u001b[39m_handle, device_name, op_name,\n\u001b[0;32m     54\u001b[0m                                       inputs, attrs, num_outputs)\n\u001b[0;32m     55\u001b[0m \u001b[38;5;28;01mexcept\u001b[39;00m core\u001b[38;5;241m.\u001b[39m_NotOkStatusException \u001b[38;5;28;01mas\u001b[39;00m e:\n\u001b[0;32m     56\u001b[0m   \u001b[38;5;28;01mif\u001b[39;00m name \u001b[38;5;129;01mis\u001b[39;00m \u001b[38;5;129;01mnot\u001b[39;00m \u001b[38;5;28;01mNone\u001b[39;00m:\n",
      "\u001b[1;31mInvalidArgumentError\u001b[0m: Graph execution error:\n\nDetected at node sequential_1/embedding_1/GatherV2 defined at (most recent call last):\n  File \"<frozen runpy>\", line 198, in _run_module_as_main\n\n  File \"<frozen runpy>\", line 88, in _run_code\n\n  File \"c:\\Users\\prash\\OneDrive\\Desktop\\Certificate_Practice\\venv\\Lib\\site-packages\\ipykernel_launcher.py\", line 18, in <module>\n\n  File \"c:\\Users\\prash\\OneDrive\\Desktop\\Certificate_Practice\\venv\\Lib\\site-packages\\traitlets\\config\\application.py\", line 1075, in launch_instance\n\n  File \"c:\\Users\\prash\\OneDrive\\Desktop\\Certificate_Practice\\venv\\Lib\\site-packages\\ipykernel\\kernelapp.py\", line 739, in start\n\n  File \"c:\\Users\\prash\\OneDrive\\Desktop\\Certificate_Practice\\venv\\Lib\\site-packages\\tornado\\platform\\asyncio.py\", line 205, in start\n\n  File \"c:\\Users\\prash\\OneDrive\\Desktop\\Certificate_Practice\\venv\\Lib\\asyncio\\base_events.py\", line 618, in run_forever\n\n  File \"c:\\Users\\prash\\OneDrive\\Desktop\\Certificate_Practice\\venv\\Lib\\asyncio\\base_events.py\", line 1951, in _run_once\n\n  File \"c:\\Users\\prash\\OneDrive\\Desktop\\Certificate_Practice\\venv\\Lib\\asyncio\\events.py\", line 84, in _run\n\n  File \"c:\\Users\\prash\\OneDrive\\Desktop\\Certificate_Practice\\venv\\Lib\\site-packages\\ipykernel\\kernelbase.py\", line 545, in dispatch_queue\n\n  File \"c:\\Users\\prash\\OneDrive\\Desktop\\Certificate_Practice\\venv\\Lib\\site-packages\\ipykernel\\kernelbase.py\", line 534, in process_one\n\n  File \"c:\\Users\\prash\\OneDrive\\Desktop\\Certificate_Practice\\venv\\Lib\\site-packages\\ipykernel\\kernelbase.py\", line 437, in dispatch_shell\n\n  File \"c:\\Users\\prash\\OneDrive\\Desktop\\Certificate_Practice\\venv\\Lib\\site-packages\\ipykernel\\ipkernel.py\", line 362, in execute_request\n\n  File \"c:\\Users\\prash\\OneDrive\\Desktop\\Certificate_Practice\\venv\\Lib\\site-packages\\ipykernel\\kernelbase.py\", line 778, in execute_request\n\n  File \"c:\\Users\\prash\\OneDrive\\Desktop\\Certificate_Practice\\venv\\Lib\\site-packages\\ipykernel\\ipkernel.py\", line 449, in do_execute\n\n  File \"c:\\Users\\prash\\OneDrive\\Desktop\\Certificate_Practice\\venv\\Lib\\site-packages\\ipykernel\\zmqshell.py\", line 549, in run_cell\n\n  File \"c:\\Users\\prash\\OneDrive\\Desktop\\Certificate_Practice\\venv\\Lib\\site-packages\\IPython\\core\\interactiveshell.py\", line 3077, in run_cell\n\n  File \"c:\\Users\\prash\\OneDrive\\Desktop\\Certificate_Practice\\venv\\Lib\\site-packages\\IPython\\core\\interactiveshell.py\", line 3132, in _run_cell\n\n  File \"c:\\Users\\prash\\OneDrive\\Desktop\\Certificate_Practice\\venv\\Lib\\site-packages\\IPython\\core\\async_helpers.py\", line 128, in _pseudo_sync_runner\n\n  File \"c:\\Users\\prash\\OneDrive\\Desktop\\Certificate_Practice\\venv\\Lib\\site-packages\\IPython\\core\\interactiveshell.py\", line 3336, in run_cell_async\n\n  File \"c:\\Users\\prash\\OneDrive\\Desktop\\Certificate_Practice\\venv\\Lib\\site-packages\\IPython\\core\\interactiveshell.py\", line 3519, in run_ast_nodes\n\n  File \"c:\\Users\\prash\\OneDrive\\Desktop\\Certificate_Practice\\venv\\Lib\\site-packages\\IPython\\core\\interactiveshell.py\", line 3579, in run_code\n\n  File \"C:\\Users\\prash\\AppData\\Local\\Temp\\ipykernel_10160\\3357125385.py\", line 5, in <module>\n\n  File \"C:\\Users\\prash\\AppData\\Local\\Temp\\ipykernel_10160\\263984499.py\", line 5, in predict_sentiment\n\n  File \"c:\\Users\\prash\\OneDrive\\Desktop\\Certificate_Practice\\venv\\Lib\\site-packages\\keras\\src\\utils\\traceback_utils.py\", line 117, in error_handler\n\n  File \"c:\\Users\\prash\\OneDrive\\Desktop\\Certificate_Practice\\venv\\Lib\\site-packages\\keras\\src\\backend\\tensorflow\\trainer.py\", line 566, in predict\n\n  File \"c:\\Users\\prash\\OneDrive\\Desktop\\Certificate_Practice\\venv\\Lib\\site-packages\\keras\\src\\backend\\tensorflow\\trainer.py\", line 260, in one_step_on_data_distributed\n\n  File \"c:\\Users\\prash\\OneDrive\\Desktop\\Certificate_Practice\\venv\\Lib\\site-packages\\keras\\src\\backend\\tensorflow\\trainer.py\", line 250, in one_step_on_data\n\n  File \"c:\\Users\\prash\\OneDrive\\Desktop\\Certificate_Practice\\venv\\Lib\\site-packages\\keras\\src\\backend\\tensorflow\\trainer.py\", line 105, in predict_step\n\n  File \"c:\\Users\\prash\\OneDrive\\Desktop\\Certificate_Practice\\venv\\Lib\\site-packages\\keras\\src\\utils\\traceback_utils.py\", line 117, in error_handler\n\n  File \"c:\\Users\\prash\\OneDrive\\Desktop\\Certificate_Practice\\venv\\Lib\\site-packages\\keras\\src\\layers\\layer.py\", line 941, in __call__\n\n  File \"c:\\Users\\prash\\OneDrive\\Desktop\\Certificate_Practice\\venv\\Lib\\site-packages\\keras\\src\\utils\\traceback_utils.py\", line 117, in error_handler\n\n  File \"c:\\Users\\prash\\OneDrive\\Desktop\\Certificate_Practice\\venv\\Lib\\site-packages\\keras\\src\\ops\\operation.py\", line 59, in __call__\n\n  File \"c:\\Users\\prash\\OneDrive\\Desktop\\Certificate_Practice\\venv\\Lib\\site-packages\\keras\\src\\utils\\traceback_utils.py\", line 156, in error_handler\n\n  File \"c:\\Users\\prash\\OneDrive\\Desktop\\Certificate_Practice\\venv\\Lib\\site-packages\\keras\\src\\models\\sequential.py\", line 220, in call\n\n  File \"c:\\Users\\prash\\OneDrive\\Desktop\\Certificate_Practice\\venv\\Lib\\site-packages\\keras\\src\\models\\functional.py\", line 183, in call\n\n  File \"c:\\Users\\prash\\OneDrive\\Desktop\\Certificate_Practice\\venv\\Lib\\site-packages\\keras\\src\\ops\\function.py\", line 206, in _run_through_graph\n\n  File \"c:\\Users\\prash\\OneDrive\\Desktop\\Certificate_Practice\\venv\\Lib\\site-packages\\keras\\src\\models\\functional.py\", line 644, in call\n\n  File \"c:\\Users\\prash\\OneDrive\\Desktop\\Certificate_Practice\\venv\\Lib\\site-packages\\keras\\src\\utils\\traceback_utils.py\", line 117, in error_handler\n\n  File \"c:\\Users\\prash\\OneDrive\\Desktop\\Certificate_Practice\\venv\\Lib\\site-packages\\keras\\src\\layers\\layer.py\", line 941, in __call__\n\n  File \"c:\\Users\\prash\\OneDrive\\Desktop\\Certificate_Practice\\venv\\Lib\\site-packages\\keras\\src\\utils\\traceback_utils.py\", line 117, in error_handler\n\n  File \"c:\\Users\\prash\\OneDrive\\Desktop\\Certificate_Practice\\venv\\Lib\\site-packages\\keras\\src\\ops\\operation.py\", line 59, in __call__\n\n  File \"c:\\Users\\prash\\OneDrive\\Desktop\\Certificate_Practice\\venv\\Lib\\site-packages\\keras\\src\\utils\\traceback_utils.py\", line 156, in error_handler\n\n  File \"c:\\Users\\prash\\OneDrive\\Desktop\\Certificate_Practice\\venv\\Lib\\site-packages\\keras\\src\\layers\\core\\embedding.py\", line 150, in call\n\n  File \"c:\\Users\\prash\\OneDrive\\Desktop\\Certificate_Practice\\venv\\Lib\\site-packages\\keras\\src\\ops\\numpy.py\", line 5795, in take\n\n  File \"c:\\Users\\prash\\OneDrive\\Desktop\\Certificate_Practice\\venv\\Lib\\site-packages\\keras\\src\\backend\\tensorflow\\numpy.py\", line 2340, in take\n\nindices[0,498] = 45951 is not in [0, 10000)\n\t [[{{node sequential_1/embedding_1/GatherV2}}]] [Op:__inference_one_step_on_data_distributed_300]"
     ]
    }
   ],
   "source": [
    "\n",
    "review = \"Awesome mindblowing movie\"\n",
    "sentiment, score = predict_sentiment(review)\n",
    "print(f\"Review: {review}\\nSentiment: {sentiment}, Score: {score:.4f}\\n\")\n"
   ]
  },
  {
   "cell_type": "markdown",
   "id": "499b289f",
   "metadata": {},
   "source": [
    "#### The model works well for known and simple reviews, such as:\n",
    "\n",
    "\"i loved it\" → Positive (0.7723)\n",
    "\n",
    "\"boring plot\" → Negative (0.0529)\n",
    "\n",
    "#### Wrongly Classified:\n",
    "\"great acting\" → Predicted: Negative (0.2005) – should be Positive ❌\n",
    "\n",
    "Despite being a clearly positive phrase, it's misclassified.\n",
    "\n",
    "Possible Reason: Short length, lack of context, or under-representation in training data.\n",
    "\n",
    "#### It correctly captures clear sentiments but fails when words are out of vocabulary:\n",
    "\n",
    "\"Awesome mindblowing movie\" → ❌ Error\n",
    "\n",
    "Error: indices[0,498] = 45951 is not in [0, 10000)\n",
    "\n",
    "Cause: \"awesome\" or \"mindblowing\" not present in the IMDB word index (only top 10,000 words are included by default)"
   ]
  },
  {
   "cell_type": "markdown",
   "id": "8f2d3ae7",
   "metadata": {},
   "source": [
    "### Solution:\n",
    "Handle OOV (Out-of-Vocabulary) words:\n",
    "\n",
    "Use num_words=10000 when loading imdb.get_word_index() (already default)\n",
    "\n",
    "Replace unknown words with a special OOV token (e.g., index 2) manually or using Tokenizer(oov_token='<OOV>') if using custom data\n",
    "\n",
    "Enhance input preprocessing:\n",
    "\n",
    "Filter or map unknown words to index 2\n",
    "\n",
    "Add word validation during encoding step\n",
    "\n",
    "Optional improvements:\n",
    "\n",
    "Use Tokenizer and retrain with real-world data\n",
    "\n",
    "Switch to LSTM/GRU for better generalization on longer, unseen reviews\n",
    "\n"
   ]
  },
  {
   "cell_type": "code",
   "execution_count": null,
   "id": "6fa6dad5",
   "metadata": {},
   "outputs": [],
   "source": []
  },
  {
   "cell_type": "code",
   "execution_count": null,
   "id": "1499be9b",
   "metadata": {},
   "outputs": [],
   "source": []
  }
 ],
 "metadata": {
  "kernelspec": {
   "display_name": "venv",
   "language": "python",
   "name": "python3"
  },
  "language_info": {
   "codemirror_mode": {
    "name": "ipython",
    "version": 3
   },
   "file_extension": ".py",
   "mimetype": "text/x-python",
   "name": "python",
   "nbconvert_exporter": "python",
   "pygments_lexer": "ipython3",
   "version": "3.12.0"
  }
 },
 "nbformat": 4,
 "nbformat_minor": 5
}
